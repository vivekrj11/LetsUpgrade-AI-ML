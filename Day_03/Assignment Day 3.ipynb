{
 "cells": [
  {
   "cell_type": "markdown",
   "metadata": {},
   "source": [
    "# 1. Write a program to subtract two complex numbers in Python."
   ]
  },
  {
   "cell_type": "code",
   "execution_count": 1,
   "metadata": {},
   "outputs": [
    {
     "name": "stdout",
     "output_type": "stream",
     "text": [
      "Subtraction of two complex numbers: (1+9j)\n"
     ]
    }
   ],
   "source": [
    "a = 3+4j\n",
    "b = 2-5j\n",
    "print(\"Subtraction of two complex numbers:\", a-b)"
   ]
  },
  {
   "cell_type": "markdown",
   "metadata": {},
   "source": [
    "# 2. Write a program to find the fourth root of a number."
   ]
  },
  {
   "cell_type": "code",
   "execution_count": 3,
   "metadata": {},
   "outputs": [
    {
     "name": "stdout",
     "output_type": "stream",
     "text": [
      "The fourth root of number is 2.0\n"
     ]
    }
   ],
   "source": [
    "a = 16 #number\n",
    "print(\"The fourth root of number is\", a**(1/4))"
   ]
  },
  {
   "cell_type": "markdown",
   "metadata": {},
   "source": [
    "# 3. Write a program to swap two numbers in Python with the help of a temporary variable."
   ]
  },
  {
   "cell_type": "code",
   "execution_count": 4,
   "metadata": {},
   "outputs": [
    {
     "name": "stdout",
     "output_type": "stream",
     "text": [
      "The value of a : 15\n",
      "The value of b : 10\n"
     ]
    }
   ],
   "source": [
    "a = 10\n",
    "b = 15\n",
    "\n",
    "temp = a\n",
    "a = b\n",
    "b = temp\n",
    "\n",
    "print(\"The value of a :\", a)\n",
    "print(\"The value of b :\", b)"
   ]
  },
  {
   "cell_type": "markdown",
   "metadata": {},
   "source": [
    "# 4. Write a program to swap two numbers in Python without using a temporary variable."
   ]
  },
  {
   "cell_type": "code",
   "execution_count": 5,
   "metadata": {},
   "outputs": [
    {
     "name": "stdout",
     "output_type": "stream",
     "text": [
      "The value of a : 25\n",
      "The value of b : 20\n"
     ]
    }
   ],
   "source": [
    "a = 20\n",
    "b = 25\n",
    "\n",
    "a,b = b,a\n",
    "\n",
    "print(\"The value of a :\", a)\n",
    "print(\"The value of b :\", b)"
   ]
  },
  {
   "cell_type": "markdown",
   "metadata": {},
   "source": [
    "# 5. Write a program to convert fahrenheit to kelvin and celsius both.\n"
   ]
  },
  {
   "cell_type": "code",
   "execution_count": 7,
   "metadata": {},
   "outputs": [
    {
     "name": "stdout",
     "output_type": "stream",
     "text": [
      "50 farhenheit = 10.0 celsius\n",
      "50 farhenheit = 283.15 kelvin\n"
     ]
    }
   ],
   "source": [
    "fahrenheit = 50\n",
    "\n",
    "fahrenheit_to_celsius = (fahrenheit - 32) * (5/9)\n",
    "fahrenheit_to_kelvin = (fahrenheit - 32) * (5/9) + 273.15\n",
    "\n",
    "print(fahrenheit, \"farhenheit =\", fahrenheit_to_celsius, \"celsius\")\n",
    "print(fahrenheit, \"farhenheit =\", fahrenheit_to_kelvin, \"kelvin\")"
   ]
  },
  {
   "cell_type": "markdown",
   "metadata": {},
   "source": [
    "# 6. Write a program to demonstrate all the available data types in Python. Hint: Use type() function."
   ]
  },
  {
   "cell_type": "code",
   "execution_count": 9,
   "metadata": {},
   "outputs": [
    {
     "name": "stdout",
     "output_type": "stream",
     "text": [
      "<class 'int'>\n",
      "<class 'complex'>\n",
      "<class 'float'>\n",
      "<class 'tuple'>\n",
      "<class 'str'>\n",
      "<class 'list'>\n",
      "<class 'dict'>\n",
      "<class 'bool'>\n"
     ]
    }
   ],
   "source": [
    "a = 11\n",
    "b = 2+9j\n",
    "c = 9.8\n",
    "d = (\"hello\", 123,\"python\")\n",
    "e = \"LetsUpgrade\"\n",
    "f = [1,2,3,4,5]\n",
    "g = {1:\"one\", 2:\"two\", 3:\"three\"}\n",
    "\n",
    "x=2\n",
    "y=2\n",
    "\n",
    "print(type(a))\n",
    "print(type(b))\n",
    "print(type(c))\n",
    "print(type(d))\n",
    "print(type(e))\n",
    "print(type(f))\n",
    "print(type(g))\n",
    "print(type(x==y))"
   ]
  },
  {
   "cell_type": "markdown",
   "metadata": {},
   "source": [
    "# 7. Create a Markdown cell in jupyter and list the steps discussed in the session by Dr. Darshan Ingle sir to create Github profile and upload Githubs Assignment link."
   ]
  },
  {
   "cell_type": "markdown",
   "metadata": {},
   "source": [
    "__1. Go to the website github.com and create a new account by signing up.__\n",
    "\n",
    "__2. By signing in with login credentials, click on \"New\" tab to create a new repository.__\n",
    "\n",
    "__3. Name the new repository as \"LetsUpgade AI-ML\".__\n",
    "\n",
    "__4. Fill the \"Description column\".__\n",
    "\n",
    "__5. Keep the repository as a \"Public\".__\n",
    "\n",
    "__6. Click on \"create new repository\".__\n",
    "\n",
    "__7. To upload jupyter notebook as a part of assignment, click on file option notebook.__\n",
    "\n",
    "__8. Go to \"Download As\" -> \"Notebook(.ipynb)\".__\n",
    "\n",
    "__9. Upload the downloaded .ipynb file to github and share the link in google form.__"
   ]
  }
 ],
 "metadata": {
  "kernelspec": {
   "display_name": "Python 3",
   "language": "python",
   "name": "python3"
  },
  "language_info": {
   "codemirror_mode": {
    "name": "ipython",
    "version": 3
   },
   "file_extension": ".py",
   "mimetype": "text/x-python",
   "name": "python",
   "nbconvert_exporter": "python",
   "pygments_lexer": "ipython3",
   "version": "3.7.6"
  }
 },
 "nbformat": 4,
 "nbformat_minor": 4
}
